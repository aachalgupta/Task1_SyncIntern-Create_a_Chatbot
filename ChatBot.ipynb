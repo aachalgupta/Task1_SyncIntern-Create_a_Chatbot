{
 "cells": [
  {
   "cell_type": "code",
   "execution_count": 1,
   "metadata": {},
   "outputs": [],
   "source": [
    "import nltk\n",
    "import string\n",
    "import random\n",
    "import numpy as np\n",
    "\n",
    "import warnings\n",
    "warnings.filterwarnings(\"ignore\")"
   ]
  },
  {
   "cell_type": "code",
   "execution_count": 2,
   "metadata": {},
   "outputs": [],
   "source": [
    "from bs4 import BeautifulSoup\n",
    "import requests\n",
    "import re\n",
    "\n",
    "def url_to_string(url):\n",
    "    res = requests.get(url)\n",
    "     # Send an HTTP GET request to the specified URL and store the response\n",
    "    html = res.text\n",
    "     # Get the HTML content of the page from the response\n",
    "    soup = BeautifulSoup(html, \"html5lib\")\n",
    "     # Create a BeautifulSoup object to parse the HTML content\n",
    "    for script in soup([\"script\", \"style\", \"aside\"]):\n",
    "         script.extract()\n",
    "     # Remove unwanted elements from the HTML i.e tags\n",
    "    return\" \".join(re.split(r\"[\\n\\t]+\", soup.get_text()))  \n",
    "     # Extract the text content and split it into new line and join to form a single string  "
   ]
  },
  {
   "cell_type": "code",
   "execution_count": 3,
   "metadata": {},
   "outputs": [],
   "source": [
    "# Copy the link which you want to extract\n",
    "data = url_to_string (\"https://en.wikipedia.org/wiki/Harry_Potter\") \n",
    "# data"
   ]
  },
  {
   "cell_type": "code",
   "execution_count": 4,
   "metadata": {},
   "outputs": [
    {
     "name": "stderr",
     "output_type": "stream",
     "text": [
      "[nltk_data] Downloading package punkt to\n",
      "[nltk_data]     C:\\Users\\Admin\\AppData\\Roaming\\nltk_data...\n",
      "[nltk_data]   Package punkt is already up-to-date!\n",
      "[nltk_data] Downloading package wordnet to\n",
      "[nltk_data]     C:\\Users\\Admin\\AppData\\Roaming\\nltk_data...\n",
      "[nltk_data]   Package wordnet is already up-to-date!\n"
     ]
    },
    {
     "data": {
      "text/plain": [
       "True"
      ]
     },
     "execution_count": 4,
     "metadata": {},
     "output_type": "execute_result"
    }
   ],
   "source": [
    "nltk.download(\"punkt\")   # punkt tokenizer\n",
    "nltk.download(\"wordnet\")  # wordnet dictionary  "
   ]
  },
  {
   "cell_type": "markdown",
   "metadata": {},
   "source": [
    "# Text Pre-Processing"
   ]
  },
  {
   "cell_type": "code",
   "execution_count": 5,
   "metadata": {},
   "outputs": [],
   "source": [
    "# Converting data into lowercase\n",
    "data = data.lower()\n",
    "# data"
   ]
  },
  {
   "cell_type": "code",
   "execution_count": 6,
   "metadata": {},
   "outputs": [],
   "source": [
    "# Converting data into list of sentences\n",
    "sentence = nltk.sent_tokenize(data)  \n",
    "\n",
    "# Converting data into list of words\n",
    "word = nltk.word_tokenize(data)     "
   ]
  },
  {
   "cell_type": "code",
   "execution_count": 7,
   "metadata": {},
   "outputs": [
    {
     "data": {
      "text/plain": [
       "[' harry potter - wikipedia jump to content main menu main menu move to sidebar hide navigation main pagecontentscurrent eventsrandom articleabout wikipediacontact usdonate contribute helplearn to editcommunity portalrecent changesupload file languages language links are at the top of the page across from the title.',\n",
       " 'search search create accountlog in personal tools  create account log in pages for logged out editors learn more contributionstalk contents move to sidebar hide (top) 1plot toggle plot subsection 1.1early years 1.2voldemort returns 2style and allusions toggle style and allusions subsection 2.1genre and style 2.2allusions 3themes 4development history toggle development history subsection 4.1publishing history 4.2translations 4.3cover art 5reception toggle reception subsection 5.1commercial success 5.2literary criticism 5.3thematic critique 5.4controversies 6legacy toggle legacy subsection 6.1influence on literature 6.2cultural impact 7awards, honours, and recognition 8adaptations toggle adaptations subsection 8.1films 8.1.1spin-off prequels 8.2games 8.3stage production 8.4television 9attractions 10supplementary works 11see also 12references 13sources 14further reading 15external links toggle the table of contents toggle the table of contents harry potter 132 languages afrikaansalemannischአማርኛanarâškielâअंगिकाالعربيةaragonésarmãneashtiঅসমীয়াasturianuअवधीаварazərbaycancaবাংলাbân-lâm-gúбеларускаяbikol centralбългарскиboarischbosanskibrezhonegcatalàcebuanočeštinachavacano de zamboangacymraegdanskdavvisámegielladeutscheestiελληνικάespañolesperantoeuskaraفارسیføroysktfrançaisfryskgaeilgegalegoગુજરાતીगोंयची कोंकणी / gõychi konknni한국어հայերենहिन्दीhrvatskiidobahasa indonesiainterlinguaíslenskaitalianoעבריתjawaಕನ್ನಡქართულიқазақшаkurdîкыргызчаladinlatinalatviešulietuviųli nihalimburgslombardmagyarмакедонскиmalagasyമലയാളംमराठीمازِرونیbahasa melayu閩東語 / mìng-dĕ̤ng-ngṳ̄монголမြန်မာဘာသာnederlandsnedersaksies日本語norsk bokmålnorsk nynorskoccitanଓଡ଼ିଆoʻzbekcha / ўзбекчаਪੰਜਾਬੀپنجابیперем комиpiemontèisplattdüütschpolskiportuguêsromânăruna simiрусскийсаха тылаsakizayasarduscotsshqipsicilianuසිංහලsimple englishسنڌيslovenčinaslovenščinaślůnskiکوردیсрпски / srpskisrpskohrvatski / српскохрватскиsuomisvenskatagalogதமிழ்татарча / tatarçaతెలుగుไทยtürkçeукраїнськаاردوvènetotiếng việtvolapükvõro文言winaray吴语ייִדיש粵語zazakizeêuwsžemaitėška中文ghanaian pidgin edit links article talk english read view source view history tools tools move to sidebar hide actions readview sourceview history general what links hererelated changesupload filespecial pagespermanent linkpage informationcite this pagewikidata item print/export download as pdfprintable version in other projects wikimedia commonswikibookswikiquotewikivoyage from wikipedia, the free encyclopedia fantasy literature series by j.k. rowling this article is about the novel series.',\n",
       " 'for the character, see harry potter (character).',\n",
       " 'for the film series, see harry potter (film series).',\n",
       " 'for other uses, see harry potter (disambiguation).',\n",
       " \"harry potter philosopher's stone (1997) chamber of secrets (1998) prisoner of azkaban (1999) goblet of fire (2000) order of the phoenix (2003) half-blood prince (2005) deathly hallows (2007) authorj.\",\n",
       " 'k. rowlingcover artistthomas taylor, cliff wright, giles greenfield, jason cockcroftcountryunited kingdomlanguageenglishgenrefantasypublisherbloomsburypublished26 june 1997 – 21 july 2007 (initial publication)media type print (hardback and paperback) audiobook e-book no.',\n",
       " 'of books7websitewww.wizardingworld.com harry potter is a series of seven fantasy novels written by british author j. k. rowling.',\n",
       " 'the novels chronicle the lives of a young wizard, harry potter, and his friends hermione granger and ron weasley, all of whom are students at hogwarts school of witchcraft and wizardry.',\n",
       " \"the main story arc concerns harry's conflict with lord voldemort, a dark wizard who intends to become immortal, overthrow the wizard governing body known as the ministry of magic and subjugate all wizards and muggles (non-magical people).\"]"
      ]
     },
     "execution_count": 7,
     "metadata": {},
     "output_type": "execute_result"
    }
   ],
   "source": [
    "sentence[ :10]"
   ]
  },
  {
   "cell_type": "code",
   "execution_count": 8,
   "metadata": {},
   "outputs": [
    {
     "data": {
      "text/plain": [
       "['harry',\n",
       " 'potter',\n",
       " '-',\n",
       " 'wikipedia',\n",
       " 'jump',\n",
       " 'to',\n",
       " 'content',\n",
       " 'main',\n",
       " 'menu',\n",
       " 'main']"
      ]
     },
     "execution_count": 8,
     "metadata": {},
     "output_type": "execute_result"
    }
   ],
   "source": [
    "word[ :10]"
   ]
  },
  {
   "cell_type": "code",
   "execution_count": 9,
   "metadata": {},
   "outputs": [],
   "source": [
    "# Lemmatizing\n",
    "from nltk.stem import WordNetLemmatizer\n",
    "lemma = WordNetLemmatizer()"
   ]
  },
  {
   "cell_type": "code",
   "execution_count": 10,
   "metadata": {},
   "outputs": [],
   "source": [
    "def show_lemmas(tokens):\n",
    "    return[lemma.lemmatize(token)  for token in tokens          ]"
   ]
  },
  {
   "cell_type": "code",
   "execution_count": 11,
   "metadata": {},
   "outputs": [],
   "source": [
    "# Removing Punctuation\n",
    "remove_punct = dict((ord(punct), None)  for punct in string.punctuation)"
   ]
  },
  {
   "cell_type": "code",
   "execution_count": 12,
   "metadata": {},
   "outputs": [],
   "source": [
    "# Normalizing \n",
    "def normalize(text):\n",
    "    return show_lemmas(nltk.word_tokenize(text.lower().translate(remove_punct)))"
   ]
  },
  {
   "cell_type": "markdown",
   "metadata": {},
   "source": [
    "By using above function, you can process text data by first tokenizing it into words, converting\n",
    "them to lowercase, removing punctuation, and then lemmatizing(show_lemmas) each word to obtain its\n",
    "base form"
   ]
  },
  {
   "cell_type": "markdown",
   "metadata": {},
   "source": [
    "# Defining the Greetings"
   ]
  },
  {
   "cell_type": "code",
   "execution_count": 13,
   "metadata": {},
   "outputs": [],
   "source": [
    "GREET_INPUTS = (\"hello\", \"hi\", \"greetings\", \"sup\", \"what's up\",\"hey\")\n",
    "GREET_RESPONSES = [\"hi\", \"hey\", \"hi there\", \"hi,ask me what you want to know\", \"hello\",\n",
    "                   \"I am glad! You are talking to me\"]"
   ]
  },
  {
   "cell_type": "code",
   "execution_count": 14,
   "metadata": {},
   "outputs": [],
   "source": [
    "def greet(sentence):\n",
    "    for word in sentence.split():\n",
    "        if word.lower() in GREET_INPUTS:\n",
    "            return random.choice(GREET_RESPONSES)"
   ]
  },
  {
   "cell_type": "markdown",
   "metadata": {},
   "source": [
    "# Defining Response Generation"
   ]
  },
  {
   "cell_type": "code",
   "execution_count": 15,
   "metadata": {},
   "outputs": [],
   "source": [
    "from sklearn.feature_extraction.text import TfidfVectorizer\n",
    "from sklearn.metrics.pairwise import cosine_similarity"
   ]
  },
  {
   "cell_type": "markdown",
   "metadata": {},
   "source": [
    "Converting cleaned data into numeric using TFIDF and using cosine similarity to measure similarity \n",
    "between vectors(-1 to 1) where 1 indicating similarity and -1 indicating dissimilarity"
   ]
  },
  {
   "cell_type": "code",
   "execution_count": 16,
   "metadata": {},
   "outputs": [],
   "source": [
    "def response(user_response):\n",
    "  robo1_response=''\n",
    "  TfidfVec = TfidfVectorizer(tokenizer = normalize, stop_words = \"english\")\n",
    "  tfidf = TfidfVec.fit_transform(sentence)\n",
    "  vals = cosine_similarity(tfidf[-1], tfidf)\n",
    "  # calculates cosine similarity between the last sentence and all other sentences in the tfidf matrix. \n",
    "  idx = vals.argsort()[0][-2]\n",
    "  # sorts the cosine similarities in ascending order and then selects the second-to-last index.\n",
    "  flat = vals.flatten()\n",
    "  flat.sort()\n",
    "  req_tfidf = flat[-2]\n",
    "  # Stores the second-to-last (second highest) similarity value \n",
    "\n",
    "  if(req_tfidf==0):   # if 0 no similarity\n",
    "    robo1_response = robo1_response + \"I am sorry! I don't understand you\"\n",
    "    return robo1_response\n",
    "  else:\n",
    "    robo1_response = robo1_response + sentence[idx]\n",
    "    return robo1_response"
   ]
  },
  {
   "cell_type": "markdown",
   "metadata": {},
   "source": [
    "# Defining Conversation Start and End "
   ]
  },
  {
   "cell_type": "code",
   "execution_count": 17,
   "metadata": {},
   "outputs": [
    {
     "name": "stdout",
     "output_type": "stream",
     "text": [
      "BOT: I'm ChatBot. Ask me about Harry Potter. If you want to exit any time,just type Bye!\n",
      "hey\n",
      "ChatBot: hi,ask me what you want to know\n",
      "hagrid\n",
      "BOT: he meets a half-giant named hagrid who invites him to attend the hogwarts school of witchcraft and wizardry.\n",
      "cedric\n",
      "BOT: harry manages to escape, but cedric is killed and voldemort is resurrected using harry's blood.\n",
      "ronald\n",
      "BOT: I am sorry! I don't understand you\n",
      "sorting hat\n",
      "BOT: harry draws the sword of gryffindor from the sorting hat, slays the basilisk and destroys the diary.\n",
      "lumos\n",
      "BOT: I am sorry! I don't understand you\n",
      "tom riddle\n",
      "BOT: harry learns from a drunken slughorn that he used to teach tom riddle, and that voldemort divided his soul into pieces, creating a series of horcruxes.\n",
      "thanks\n",
      "ChatBot: You are welcome..\n"
     ]
    }
   ],
   "source": [
    "flag = True\n",
    "print(\"BOT: I'm ChatBot. Ask me about Harry Potter. If you want to exit any time,just type Bye!\")\n",
    "while(flag==True):\n",
    "    user_response = input()\n",
    "    user_response = user_response.lower()\n",
    "    if(user_response != \"bye\"):\n",
    "        if(user_response == \"thanks\" or user_response == \"thank you\"):\n",
    "            flag=False\n",
    "            print(\"ChatBot: You are welcome..\")\n",
    "        else:\n",
    "            if(greet(user_response)!= None):\n",
    "                print(\"ChatBot: \" + greet(user_response))\n",
    "            else:\n",
    "                sentence.append(user_response)\n",
    "                word = word+nltk.word_tokenize(user_response)\n",
    "                final_words = list(set(word))\n",
    "                print(\"BOT: \",end=\"\")\n",
    "                print(response(user_response))\n",
    "                sentence.remove(user_response)\n",
    "    else:\n",
    "        flag = False\n",
    "        print(\"ChatBot: Goodbye! Take care <3 \")"
   ]
  },
  {
   "cell_type": "code",
   "execution_count": null,
   "metadata": {},
   "outputs": [],
   "source": []
  }
 ],
 "metadata": {
  "kernelspec": {
   "display_name": "Python 3",
   "language": "python",
   "name": "python3"
  },
  "language_info": {
   "codemirror_mode": {
    "name": "ipython",
    "version": 3
   },
   "file_extension": ".py",
   "mimetype": "text/x-python",
   "name": "python",
   "nbconvert_exporter": "python",
   "pygments_lexer": "ipython3",
   "version": "3.7.6"
  }
 },
 "nbformat": 4,
 "nbformat_minor": 4
}
